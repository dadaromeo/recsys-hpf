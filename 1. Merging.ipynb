{
 "cells": [
  {
   "cell_type": "code",
   "execution_count": null,
   "metadata": {
    "collapsed": true
   },
   "outputs": [],
   "source": [
    "import pandas as pd"
   ]
  },
  {
   "cell_type": "code",
   "execution_count": null,
   "metadata": {},
   "outputs": [],
   "source": [
    "cols = [\"userID\", \"movieID\", \"rating\"]\n",
    "ratings = pd.read_table(\"movielens-2k/user_ratedmovies.dat\", usecols=cols)\n",
    "ratings.head()"
   ]
  },
  {
   "cell_type": "code",
   "execution_count": null,
   "metadata": {
    "collapsed": true
   },
   "outputs": [],
   "source": [
    "ratings[\"userID\"] = ratings.userID.astype(\"categorical\").cat.codes\n",
    "ratings[\"movieID\"] = ratings.movieID.astype(\"categorical\").cat.codes"
   ]
  },
  {
   "cell_type": "code",
   "execution_count": null,
   "metadata": {},
   "outputs": [],
   "source": [
    "cols = [\"id\", \"title\", \"year\", \"imdbPictureURL\"]\n",
    "movies = pd.read_table(\"movielens-2k/movies.dat\", usecols=cols, encoding=\"latin-1\")\n",
    "movies[\"movieID\"] = movies.id.astype(\"categorical\").cat.codes\n",
    "movies = movies.drop(\"id\", axis=1)\n",
    "movies.head()"
   ]
  },
  {
   "cell_type": "code",
   "execution_count": null,
   "metadata": {},
   "outputs": [],
   "source": [
    "genres = pd.read_table(\"movielens-2k/movie_genres.dat\")\n",
    "genres.head()"
   ]
  },
  {
   "cell_type": "code",
   "execution_count": null,
   "metadata": {},
   "outputs": [],
   "source": [
    "concat = lambda a: \", \".join(a)\n",
    "\n",
    "genres = genres.groupby(by=\"movieID\").agg(concat)\n",
    "genres[\"movieID\"] = genres.movieID.astype(\"categorical\").cat.codes\n",
    "genres = genres.reset_index()\n",
    "genres.head()"
   ]
  },
  {
   "cell_type": "code",
   "execution_count": null,
   "metadata": {
    "collapsed": true
   },
   "outputs": [],
   "source": [
    "(ratings\n",
    "     .merge(movies, on=\"movieID\")\n",
    "     .merge(genres, on=\"movieID\")\n",
    "     .dropna(axis=0)\n",
    ").to_csv(\"data/movies.csv.bz2\", compression=\"bz2\", index=False)"
   ]
  },
  {
   "cell_type": "code",
   "execution_count": null,
   "metadata": {
    "collapsed": true
   },
   "outputs": [],
   "source": []
  }
 ],
 "metadata": {
  "kernelspec": {
   "display_name": "Python 3",
   "language": "python",
   "name": "python3"
  },
  "language_info": {
   "codemirror_mode": {
    "name": "ipython",
    "version": 3
   },
   "file_extension": ".py",
   "mimetype": "text/x-python",
   "name": "python",
   "nbconvert_exporter": "python",
   "pygments_lexer": "ipython3",
   "version": "3.5.3"
  }
 },
 "nbformat": 4,
 "nbformat_minor": 2
}
