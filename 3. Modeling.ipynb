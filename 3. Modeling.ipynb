{
 "cells": [
  {
   "cell_type": "code",
   "execution_count": null,
   "metadata": {
    "collapsed": true
   },
   "outputs": [],
   "source": [
    "%matplotlib inline"
   ]
  },
  {
   "cell_type": "code",
   "execution_count": null,
   "metadata": {
    "collapsed": true
   },
   "outputs": [],
   "source": [
    "import numpy as np\n",
    "import edward as ed\n",
    "import tensorflow as tf\n",
    "import matplotlib.pyplot as plt"
   ]
  },
  {
   "cell_type": "code",
   "execution_count": null,
   "metadata": {
    "collapsed": true
   },
   "outputs": [],
   "source": [
    "seed = 42\n",
    "ed.set_seed(seed)\n",
    "plt.style.use(\"ggplot\")\n",
    "fname = \"data/ratings.txt.gz\""
   ]
  },
  {
   "cell_type": "markdown",
   "metadata": {},
   "source": [
    "### Data"
   ]
  },
  {
   "cell_type": "code",
   "execution_count": null,
   "metadata": {
    "collapsed": true
   },
   "outputs": [],
   "source": [
    "data = np.loadtxt(fname, dtype=np.float32)\n",
    "idx = data.nonzero()\n",
    "tidx = tf.constant(np.column_stack(idx))\n",
    "y = data[idx]\n",
    "n,m = data.shape\n",
    "%xdel data\n",
    "y = np.ceil(y)"
   ]
  },
  {
   "cell_type": "markdown",
   "metadata": {},
   "source": [
    "### Model"
   ]
  },
  {
   "cell_type": "code",
   "execution_count": null,
   "metadata": {
    "collapsed": true
   },
   "outputs": [],
   "source": [
    "from edward.models import Poisson, Gamma\n",
    "from edward.models import PointMass, Empirical"
   ]
  },
  {
   "cell_type": "code",
   "execution_count": null,
   "metadata": {
    "collapsed": true
   },
   "outputs": [],
   "source": [
    "k = 20\n",
    "n_iter = 500\n",
    "t = 500\n",
    "\n",
    "#### Priors ####\n",
    "\n",
    "act = Gamma(1.0, 1.0, sample_shape=n) # Users activity\n",
    "pref = Gamma(1.0, act, sample_shape=k) # Users preference\n",
    "\n",
    "pop = Gamma(0.1, 0.1, sample_shape=m) # Items popularity\n",
    "attr = Gamma(1.0, pop, sample_shape=k) # Items attribute\n",
    "\n",
    "like = Poisson(tf.gather_nd(tf.matmul(pref, attr, transpose_a=True), tidx))\n",
    "\n",
    "\n",
    "#### Posteriors ####\n",
    "\n",
    "qact = Empirical(\n",
    "    tf.nn.softplus(tf.Variable(tf.random_normal([t,n]))),\n",
    ")\n",
    "qpref = PointMass(\n",
    "    tf.nn.softplus(tf.Variable(tf.random_normal([k,n]))),\n",
    ")\n",
    "qpop = Empirical(\n",
    "    tf.nn.softplus(tf.Variable(tf.random_normal([t,m]))),\n",
    ")\n",
    "qattr = PointMass(\n",
    "    tf.nn.softplus(tf.Variable(tf.random_normal([k,m]))),\n",
    ")"
   ]
  },
  {
   "cell_type": "markdown",
   "metadata": {},
   "source": [
    "### Inference"
   ]
  },
  {
   "cell_type": "code",
   "execution_count": null,
   "metadata": {
    "collapsed": true
   },
   "outputs": [],
   "source": [
    "inference_e = ed.Gibbs(\n",
    "    {act:qact, pop:qpop}, \n",
    "    data={like:y, pref:qpref, attr:qattr},\n",
    ")\n",
    "\n",
    "inference_m = ed.MAP(\n",
    "    {pref:qpref, attr:qattr},\n",
    "    data={like:y, act:qact, pop:qpop},\n",
    ")\n",
    "\n",
    "inference_e.initialize()\n",
    "inference_m.initialize(n_iter=n_iter, optimizer=\"rmsprop\")\n",
    "\n",
    "tf.global_variables_initializer().run()"
   ]
  },
  {
   "cell_type": "code",
   "execution_count": null,
   "metadata": {},
   "outputs": [],
   "source": [
    "loss = np.empty(n_iter, dtype=np.float32)\n",
    "\n",
    "for i in range(n_iter):\n",
    "    info_dict_e = inference_e.update()\n",
    "    info_dict_m = inference_m.update()\n",
    "    \n",
    "    loss[i] = info_dict_m[\"loss\"]\n",
    "    \n",
    "    inference_m.print_progress(info_dict_m)"
   ]
  },
  {
   "cell_type": "code",
   "execution_count": null,
   "metadata": {},
   "outputs": [],
   "source": [
    "fig = plt.figure(figsize=(15,6))\n",
    "ax = fig.add_subplot(111)\n",
    "ax.plot(loss / loss.max())\n",
    "ax.set_title(\"Loss\")\n",
    "ax.set_xlabel(\"Iteration\")\n",
    "fig.savefig(\"images/loss.png\", transparent=True)"
   ]
  },
  {
   "cell_type": "markdown",
   "metadata": {},
   "source": [
    "### Save"
   ]
  },
  {
   "cell_type": "code",
   "execution_count": null,
   "metadata": {
    "collapsed": true
   },
   "outputs": [],
   "source": [
    "sess = ed.get_session()"
   ]
  },
  {
   "cell_type": "code",
   "execution_count": null,
   "metadata": {
    "collapsed": true
   },
   "outputs": [],
   "source": [
    "np.save(\"data/loss\", loss)"
   ]
  },
  {
   "cell_type": "code",
   "execution_count": null,
   "metadata": {
    "collapsed": true
   },
   "outputs": [],
   "source": [
    "np.savez(\"data/act-pop\", act=sess.run(qact), pop=sess.run(qpop))"
   ]
  },
  {
   "cell_type": "code",
   "execution_count": null,
   "metadata": {
    "collapsed": true
   },
   "outputs": [],
   "source": [
    "np.savez(\"data/pref-attr\", pref=sess.run(qpref), attr=sess.run(qattr))"
   ]
  },
  {
   "cell_type": "code",
   "execution_count": null,
   "metadata": {
    "collapsed": true
   },
   "outputs": [],
   "source": []
  }
 ],
 "metadata": {
  "kernelspec": {
   "display_name": "Python 3",
   "language": "python",
   "name": "python3"
  },
  "language_info": {
   "codemirror_mode": {
    "name": "ipython",
    "version": 3
   },
   "file_extension": ".py",
   "mimetype": "text/x-python",
   "name": "python",
   "nbconvert_exporter": "python",
   "pygments_lexer": "ipython3",
   "version": "3.5.3"
  }
 },
 "nbformat": 4,
 "nbformat_minor": 2
}
