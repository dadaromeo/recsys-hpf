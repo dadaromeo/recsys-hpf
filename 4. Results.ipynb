{
 "cells": [
  {
   "cell_type": "code",
   "execution_count": null,
   "metadata": {
    "collapsed": false,
    "deletable": true,
    "editable": true
   },
   "outputs": [],
   "source": [
    "%matplotlib inline"
   ]
  },
  {
   "cell_type": "code",
   "execution_count": null,
   "metadata": {
    "collapsed": false,
    "deletable": true,
    "editable": true
   },
   "outputs": [],
   "source": [
    "import numpy as np\n",
    "import pandas as pd\n",
    "import seaborn\n",
    "import matplotlib.pyplot as plt"
   ]
  },
  {
   "cell_type": "code",
   "execution_count": null,
   "metadata": {
    "collapsed": false,
    "deletable": true,
    "editable": true
   },
   "outputs": [],
   "source": [
    "np.random.seed(42)"
   ]
  },
  {
   "cell_type": "code",
   "execution_count": null,
   "metadata": {
    "collapsed": false,
    "deletable": true,
    "editable": true
   },
   "outputs": [],
   "source": [
    "pref_attr = np.load(\"data/pref-attr.npz\")\n",
    "rating = np.loadtxt(\"data/ratings.txt.gz\", dtype=np.float32) # Rating matrix\n",
    "pref = pref_attr[\"pref\"]\n",
    "attr = pref_attr[\"attr\"]\n",
    "k = pref.shape[0]\n",
    "n,m = rating.shape"
   ]
  },
  {
   "cell_type": "code",
   "execution_count": null,
   "metadata": {
    "collapsed": false,
    "deletable": true,
    "editable": true
   },
   "outputs": [],
   "source": [
    "meta = pd.read_csv(\"data/info.csv.bz2\", index_col=0)\n",
    "meta.head()"
   ]
  },
  {
   "cell_type": "markdown",
   "metadata": {
    "deletable": true,
    "editable": true
   },
   "source": [
    "### Heatmap"
   ]
  },
  {
   "cell_type": "code",
   "execution_count": null,
   "metadata": {
    "collapsed": true,
    "deletable": true,
    "editable": true
   },
   "outputs": [],
   "source": [
    "def heatmap(attr, meta, n=20, lw=0.2, cmap=\"Reds\"):\n",
    "    m = meta.shape[0]\n",
    "    \n",
    "    ids = np.random.randint(m, size=n)\n",
    "    ids = np.unique(ids)\n",
    "    attr = attr.T[ids]\n",
    "    meta = pd.DataFrame(attr, index=meta.iloc[ids].title)\n",
    "    \n",
    "    fig = plt.figure(figsize=(15,6))\n",
    "    ax = fig.add_subplot(111)\n",
    "    ax = seaborn.heatmap(meta, ax=ax, annot=True, fmt=\".2f\", linewidths=lw, cmap=cmap)\n",
    "    ax.set_xlabel(\"Attributes\")\n",
    "    ax.set_ylabel(\"Title\")\n",
    "    fig.savefig(\"images/heatmap.png\", transparent=True)"
   ]
  },
  {
   "cell_type": "code",
   "execution_count": null,
   "metadata": {
    "collapsed": false,
    "deletable": true,
    "editable": true
   },
   "outputs": [],
   "source": [
    "heatmap(attr, meta)"
   ]
  },
  {
   "cell_type": "markdown",
   "metadata": {
    "deletable": true,
    "editable": true
   },
   "source": [
    "### MDS"
   ]
  },
  {
   "cell_type": "code",
   "execution_count": null,
   "metadata": {
    "collapsed": true,
    "deletable": true,
    "editable": true
   },
   "outputs": [],
   "source": [
    "def mds(attr, meta, n=20, cmap=\"Dark2\"):\n",
    "    m = meta.shape[0]\n",
    "    tohex = plt.cm.colors.rgb2hex\n",
    "    cmap = plt.cm.get_cmap(cmap)\n",
    "    kwargs = dict(horizontalalignment=\"center\", weight=\"bold\", verticalalignment=\"center\")\n",
    "    line = dict(color=\"grey\", linestyle=\"dashed\")\n",
    "    fig = plt.figure(figsize=(12,5))\n",
    "    #for i in [1,2]: \n",
    "    iy = np.random.randint(k)\n",
    "    ix = iy\n",
    "    while ix == iy:\n",
    "        ix = np.random.randint(k)\n",
    "    ids = np.unique(np.random.randint(m, size=n))\n",
    "    xs = attr[:,ids][ix]\n",
    "    ys = attr[:,ids][iy]\n",
    "        \n",
    "    text = [meta.iloc[id].title + \" ({y})\".format(y=meta.iloc[id].year) for id in ids]\n",
    "  \n",
    "    ax = fig.add_subplot(1, 1, 1)\n",
    "    color = lambda v: tohex(cmap(v))\n",
    "    c = map(color, xs+ys)\n",
    "    \n",
    "    ax.scatter(xs, ys-0.02, c=list(c), edgecolors=\"white\")\n",
    "    for x,y,s in zip(xs,ys,text):\n",
    "        ax.text(x, y, s, color=tohex(cmap(x+y)), **kwargs)\n",
    "    \n",
    "    v = np.median(xs)\n",
    "    h = np.median(ys)\n",
    "    ax.axvline(v, **line)\n",
    "    ax.axhline(h, **line)\n",
    "    ax.set_ylabel(\"Attribute vector %d\" % iy)\n",
    "    ax.set_xlabel(\"Attribute vector %d\" % ix)\n",
    "    #ax.axis(\"tight\")\n",
    "    \n",
    "    fig.tight_layout()\n",
    "    fig.savefig(\"images/mds.png\", transparent=True)"
   ]
  },
  {
   "cell_type": "code",
   "execution_count": null,
   "metadata": {
    "collapsed": false,
    "deletable": true,
    "editable": true
   },
   "outputs": [],
   "source": [
    "mds(attr, meta)"
   ]
  },
  {
   "cell_type": "code",
   "execution_count": null,
   "metadata": {
    "collapsed": true,
    "deletable": true,
    "editable": true
   },
   "outputs": [],
   "source": [
    "# Helper functions\n",
    "\n",
    "def plot_on(fig, meta, title, given=None):\n",
    "    \"\"\"\n",
    "    Plot movies on axes.\n",
    "    \n",
    "    Parameters\n",
    "    ==========\n",
    "    axs: Matplotlib Axes.\n",
    "    meta: Movies informations DataFrame.\n",
    "    given: The rating list.\n",
    "    \"\"\"\n",
    "    \n",
    "    from urllib.request import urlopen\n",
    "    from urllib.error import URLError, HTTPError\n",
    "    from PIL import Image\n",
    "    \n",
    "    found = False\n",
    "    for i,ax in enumerate(fig.axes):\n",
    "        try:\n",
    "            url = meta.iloc[i].imdbPictureURL\n",
    "            img = Image.open(urlopen(url))\n",
    "            ax.imshow(img)\n",
    "            found = True\n",
    "        except (URLError, HTTPError, ValueError):\n",
    "            kwargs = dict(horizontalalignment=\"center\", verticalalignment=\"center\")\n",
    "            fontdict = dict(size=15, weight=\"bold\")\n",
    "            x = 0.5 #round(ax.axes.get_xlim()[0]) / 2\n",
    "            y = 150 #round(ax.axes.get_ylim()[1]) / 2\n",
    "            found = False\n",
    "            ax.text(x, y, \"No Picture\", fontdict=fontdict, **kwargs)\n",
    "        \n",
    "        t,y,g = meta.iloc[i].title, meta.iloc[i].year, meta.iloc[i].genre.split(\", \")\n",
    "        g = \"\\n\".join(g)\n",
    "        if given is None:\n",
    "            label = '\"{t}\"\\n{g}\\n({y})'.format(t=t,y=y,g=g)\n",
    "        else:\n",
    "            r =  given[i]\n",
    "            label = '\"{t}\"\\n{g}\\n({y})\\n{r:.1f}'.format(t=t,y=y,g=g,r=r)\n",
    "        \n",
    "        ax.set_xlabel(label)\n",
    "        ax.grid(False)\n",
    "    \n",
    "    fig.suptitle(title, fontsize=15, y=1)\n",
    "    fig.tight_layout()\n",
    "    return fig\n",
    "\n",
    "def rated_by(uid, meta, rating, n=5):\n",
    "    \"\"\"\n",
    "    Show movies rated by a given user.\n",
    "    \n",
    "    Paramters\n",
    "    =========\n",
    "    uid: A user ID (int).\n",
    "    meta: The DataFrame containing informations about movies.\n",
    "    rating: The User-Movie rating matrix.\n",
    "    n: The number of movies to display.\n",
    "    \"\"\"\n",
    "    \n",
    "    rating = rating[uid]\n",
    "    ids = rating.nonzero()[0]\n",
    "    n = n if n <= len(ids) else len(ids)\n",
    "    ids = np.random.choice(ids, size=n, replace=False)\n",
    "    rating = rating[ids]\n",
    "    meta = meta.iloc[ids]\n",
    "    \n",
    "    title = 'Movies rated by user \"{}\"'.format(uid)\n",
    "    \n",
    "    fig,axs = plt.subplots(nrows=1, ncols=n, figsize=(3*n, 6), sharey=True)\n",
    "    fig = plot_on(fig, meta, title, rating)\n",
    "    \n",
    "    fig.savefig(\"images/rated_by.png\", transparent=True)\n",
    "\n",
    "def recommend_to(uid, pref, attr, meta, rating, n=5):\n",
    "    \"\"\"\n",
    "    Show movies recommended to a paticular user.\n",
    "    \n",
    "    Paramters:\n",
    "    ==========\n",
    "    uid: User ID.\n",
    "    pref: Users preferences matrix.\n",
    "    attr: Movies attributes matrix.\n",
    "    meta: Movies info dataframe.\n",
    "    rating: Rating matrix.\n",
    "    \"\"\"\n",
    "    poisson = np.random.poisson\n",
    "    title = 'Movies that user \"{}\" might like'.format(uid)\n",
    "    \n",
    "    # Discard movies already rated by the user,\n",
    "    m = rating.shape[1] # Number of movies.\n",
    "    ids = rating[uid].nonzero()[0] # Rated movies IDs.\n",
    "    ids = np.array([i for i in range(m) if not i in ids]) # Not Rated movies IDs\n",
    "    pref = pref[:, uid] # User preference\n",
    "    attr = attr[:, ids]\n",
    "    \n",
    "    scores = poisson(np.dot(pref, attr))\n",
    "    ids = np.array([i for i in np.argsort(-scores) if i in ids]) # Recommended movies IDs\n",
    "    \n",
    "    meta = meta.iloc[ids]\n",
    "    \n",
    "    fig,axs = plt.subplots(nrows=1, ncols=n, figsize=(3*n, 6), sharey=True)\n",
    "    fig = plot_on(fig, meta, title)\n",
    "    \n",
    "    fig.savefig(\"images/recommend_to.png\", transparent=True)\n",
    "\n",
    "def similar_to(mid, attr, meta, rating, n=5):\n",
    "    \"\"\"\n",
    "    Show movies closer to a given one int the attribute subspace.\n",
    "    \n",
    "    Paramters\n",
    "    =========\n",
    "    mid: Movie ID\n",
    "    attr: Movies attributes matrix.\n",
    "    meta: Movies informations DataFrame.\n",
    "    \"\"\"\n",
    "    norm = np.linalg.norm\n",
    "    r = rating[:, mid]\n",
    "    r = np.median(r[r.nonzero()])\n",
    "    \n",
    "    t,y,g = meta.iloc[mid].title, meta.iloc[mid].year, meta.iloc[mid].genre\n",
    "    title = 'Movies similar to \"{t}\": {g} ({y}) - {r:.1f}*'.format(t=t, y=y, g=g, r=r)\n",
    "    \n",
    "    dist = np.apply_along_axis(norm, 1, attr[:, mid] - attr.T) # Euclidean distance: lower is closer.\n",
    "    ids = np.argsort(dist)[1:n+1] # Discard the movie itselft\n",
    "    meta = meta.iloc[ids]\n",
    "    rating = rating[:, ids]\n",
    "    #total = np.apply_along_axis(np.count_nonzero, 0, rating) # Uncomment this if you want the mean instead\n",
    "    #rating = rating.sum(axis=0) / np.where(total == 0, 1, total) # and comment the two following lines.\n",
    "    rating = np.where(rating == 0, np.nan, rating)\n",
    "    rating = np.nanmedian(rating, axis=0)\n",
    "    \n",
    "    fig,axs = plt.subplots(nrows=1, ncols=n, figsize=(3*n, 6), sharey=True)\n",
    "    fig = plot_on(fig, meta, title, given=rating)\n",
    "    \n",
    "    fig.savefig(\"images/similar_to.png\", transparent=True)"
   ]
  },
  {
   "cell_type": "code",
   "execution_count": null,
   "metadata": {
    "collapsed": false,
    "deletable": true,
    "editable": true
   },
   "outputs": [],
   "source": [
    "uid = np.random.randint(n)"
   ]
  },
  {
   "cell_type": "code",
   "execution_count": null,
   "metadata": {
    "collapsed": false,
    "deletable": true,
    "editable": true
   },
   "outputs": [],
   "source": [
    "rated_by(uid, meta, rating)"
   ]
  },
  {
   "cell_type": "code",
   "execution_count": null,
   "metadata": {
    "collapsed": false,
    "deletable": true,
    "editable": true
   },
   "outputs": [],
   "source": [
    "recommend_to(uid, pref, attr, meta, rating)"
   ]
  },
  {
   "cell_type": "code",
   "execution_count": null,
   "metadata": {
    "collapsed": false,
    "deletable": true,
    "editable": true
   },
   "outputs": [],
   "source": [
    "similar_to(0, attr, meta, rating) # Similar to \"Toy Story\""
   ]
  },
  {
   "cell_type": "code",
   "execution_count": null,
   "metadata": {
    "collapsed": false,
    "deletable": true,
    "editable": true
   },
   "outputs": [],
   "source": [
    "def closer_to(mid):\n",
    "    norm = np.linalg.norm\n",
    "    dist = np.apply_along_axis(norm, 1, attr[:, mid] - attr.T) # Euclidean distance: lower is closer.\n",
    "    ids = np.argsort(dist)[:n+1] # Include the movie itselft\n",
    "    dist = dist[ids]\n",
    "    info = meta.iloc[ids]\n",
    "    info[\"distance\"] = dist\n",
    "    return info"
   ]
  },
  {
   "cell_type": "code",
   "execution_count": null,
   "metadata": {
    "collapsed": false,
    "deletable": true,
    "editable": true
   },
   "outputs": [],
   "source": [
    "info = closer_to(0) # Toy Story's ID\n",
    "info.head(6)"
   ]
  },
  {
   "cell_type": "code",
   "execution_count": null,
   "metadata": {
    "collapsed": true,
    "deletable": true,
    "editable": true
   },
   "outputs": [],
   "source": []
  }
 ],
 "metadata": {
  "kernelspec": {
   "display_name": "Python 3",
   "language": "python",
   "name": "python3"
  },
  "language_info": {
   "codemirror_mode": {
    "name": "ipython",
    "version": 3
   },
   "file_extension": ".py",
   "mimetype": "text/x-python",
   "name": "python",
   "nbconvert_exporter": "python",
   "pygments_lexer": "ipython3",
   "version": "3.6.0"
  }
 },
 "nbformat": 4,
 "nbformat_minor": 2
}
